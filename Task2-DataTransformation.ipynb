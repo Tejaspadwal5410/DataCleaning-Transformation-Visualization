import pandas as pd
from sklearn.preprocessing import LabelEncoder, StandardScaler

# Load the Iris dataset
df = pd.read_csv('Iris.csv')

# 1. Encode categorical variables
# Encode the 'Species' column, which is categorical
label_encoder = LabelEncoder()
df['Species'] = label_encoder.fit_transform(df['Species'])

# 2. Scale numeric features
scaler = StandardScaler()
numeric_columns = ['SepalLengthCm', 'SepalWidthCm', 'PetalLengthCm', 'PetalWidthCm']
df[numeric_columns] = scaler.fit_transform(df[numeric_columns])

# Display transformed data
print("Data after transformation:")
print(df.head())
