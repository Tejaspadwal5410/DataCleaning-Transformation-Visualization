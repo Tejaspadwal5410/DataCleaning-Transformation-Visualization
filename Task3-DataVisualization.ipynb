import pandas as pd
import matplotlib.pyplot as plt
import seaborn as sns

# Load the Iris dataset
df = pd.read_csv('Iris.csv')

# 1. Histogram for feature distribution
plt.figure(figsize=(10, 5))
sns.histplot(df['SepalLengthCm'], bins=30, kde=True)
plt.title('Distribution of Sepal Length')
plt.xlabel('Sepal Length (cm)')
plt.ylabel('Frequency')
plt.show()

# 2. Box plot to detect outliers for Sepal Width
plt.figure(figsize=(10, 5))
sns.boxplot(x=df['SepalWidthCm'])
plt.title('Box plot of Sepal Width')
plt.xlabel('Sepal Width (cm)')
plt.show()

# 3. Scatter plot for relationship between Petal Length and Petal Width
plt.figure(figsize=(10, 5))
sns.scatterplot(x=df['PetalLengthCm'], y=df['PetalWidthCm'], hue=df['Species'])
plt.title('Petal Length vs Petal Width by Species')
plt.xlabel('Petal Length (cm)')
plt.ylabel('Petal Width (cm)')
plt.show()

# 4. Correlation heatmap
plt.figure(figsize=(10, 8))
sns.heatmap(df.corr(), annot=True, cmap='coolwarm', vmin=-1, vmax=1)
plt.title('Correlation Heatmap of Iris Dataset')
plt.show()
